{
 "cells": [
  {
   "cell_type": "code",
   "execution_count": 40,
   "metadata": {},
   "outputs": [],
   "source": [
    "import pandas as pd\n",
    "import decimal"
   ]
  },
  {
   "cell_type": "code",
   "execution_count": 3,
   "metadata": {},
   "outputs": [],
   "source": [
    "df = pd.read_excel(r'data/etf - 30 week.xlsx')"
   ]
  },
  {
   "cell_type": "code",
   "execution_count": 70,
   "metadata": {},
   "outputs": [],
   "source": [
    "fin = decimal.Context(prec=2)"
   ]
  },
  {
   "cell_type": "code",
   "execution_count": 63,
   "metadata": {
    "scrolled": true
   },
   "outputs": [
    {
     "ename": "InvalidOperation",
     "evalue": "[<class 'decimal.InvalidOperation'>]",
     "output_type": "error",
     "traceback": [
      "\u001b[0;31m---------------------------------------------------------------------------\u001b[0m",
      "\u001b[0;31mInvalidOperation\u001b[0m                          Traceback (most recent call last)",
      "\u001b[0;32m<ipython-input-63-078371274632>\u001b[0m in \u001b[0;36m<module>\u001b[0;34m()\u001b[0m\n\u001b[1;32m     29\u001b[0m         \u001b[0mcurr_week\u001b[0m \u001b[0;34m+=\u001b[0m \u001b[0;36m1\u001b[0m\u001b[0;34m\u001b[0m\u001b[0m\n\u001b[1;32m     30\u001b[0m         \u001b[0mcw_data\u001b[0m\u001b[0;34m[\u001b[0m\u001b[0;34m'WB'\u001b[0m\u001b[0;34m]\u001b[0m \u001b[0;34m=\u001b[0m \u001b[0mcw_data\u001b[0m\u001b[0;34m[\u001b[0m\u001b[0;34m'WE'\u001b[0m\u001b[0;34m]\u001b[0m \u001b[0;34m=\u001b[0m \u001b[0mcw_ds\u001b[0m\u001b[0;34m[\u001b[0m\u001b[0;36m0\u001b[0m\u001b[0;34m]\u001b[0m\u001b[0;34m\u001b[0m\u001b[0m\n\u001b[0;32m---> 31\u001b[0;31m         \u001b[0mcw_data\u001b[0m\u001b[0;34m[\u001b[0m\u001b[0;34m'NB'\u001b[0m\u001b[0;34m]\u001b[0m \u001b[0;34m=\u001b[0m \u001b[0mcw_data\u001b[0m\u001b[0;34m[\u001b[0m\u001b[0;34m'NE'\u001b[0m\u001b[0;34m]\u001b[0m \u001b[0;34m=\u001b[0m \u001b[0mdc\u001b[0m\u001b[0;34m(\u001b[0m\u001b[0mcw_ds\u001b[0m\u001b[0;34m[\u001b[0m\u001b[0;36m3\u001b[0m\u001b[0;34m]\u001b[0m\u001b[0;34m)\u001b[0m\u001b[0;34m.\u001b[0m\u001b[0mquantize\u001b[0m\u001b[0;34m(\u001b[0m\u001b[0mdc\u001b[0m\u001b[0;34m(\u001b[0m\u001b[0;34m'0.01'\u001b[0m\u001b[0;34m)\u001b[0m\u001b[0;34m)\u001b[0m\u001b[0;34m\u001b[0m\u001b[0m\n\u001b[0m\u001b[1;32m     32\u001b[0m         \u001b[0mcw_data\u001b[0m\u001b[0;34m[\u001b[0m\u001b[0;34m'GB'\u001b[0m\u001b[0;34m]\u001b[0m \u001b[0;34m=\u001b[0m \u001b[0mcw_data\u001b[0m\u001b[0;34m[\u001b[0m\u001b[0;34m'GE'\u001b[0m\u001b[0;34m]\u001b[0m \u001b[0;34m=\u001b[0m \u001b[0mdc\u001b[0m\u001b[0;34m(\u001b[0m\u001b[0mcw_ds\u001b[0m\u001b[0;34m[\u001b[0m\u001b[0;36m4\u001b[0m\u001b[0;34m]\u001b[0m\u001b[0;34m)\u001b[0m\u001b[0;34m.\u001b[0m\u001b[0mquantize\u001b[0m\u001b[0;34m(\u001b[0m\u001b[0mdc\u001b[0m\u001b[0;34m(\u001b[0m\u001b[0;34m'0.01'\u001b[0m\u001b[0;34m)\u001b[0m\u001b[0;34m)\u001b[0m\u001b[0;34m\u001b[0m\u001b[0m\n\u001b[1;32m     33\u001b[0m         \u001b[0mcw_data\u001b[0m\u001b[0;34m[\u001b[0m\u001b[0;34m'LB'\u001b[0m\u001b[0;34m]\u001b[0m \u001b[0;34m=\u001b[0m \u001b[0mcw_data\u001b[0m\u001b[0;34m[\u001b[0m\u001b[0;34m'LE'\u001b[0m\u001b[0;34m]\u001b[0m \u001b[0;34m=\u001b[0m \u001b[0mdc\u001b[0m\u001b[0;34m(\u001b[0m\u001b[0mcw_ds\u001b[0m\u001b[0;34m[\u001b[0m\u001b[0;36m5\u001b[0m\u001b[0;34m]\u001b[0m\u001b[0;34m)\u001b[0m\u001b[0;34m.\u001b[0m\u001b[0mquantize\u001b[0m\u001b[0;34m(\u001b[0m\u001b[0mdc\u001b[0m\u001b[0;34m(\u001b[0m\u001b[0;34m'0.01'\u001b[0m\u001b[0;34m)\u001b[0m\u001b[0;34m)\u001b[0m\u001b[0;34m\u001b[0m\u001b[0m\n",
      "\u001b[0;31mInvalidOperation\u001b[0m: [<class 'decimal.InvalidOperation'>]"
     ]
    }
   ],
   "source": [
    "# Converting data from df to weekly format\n",
    "\n",
    "'''\n",
    "Abbreviation for columns\n",
    "N - NiftyBees\n",
    "G - GoldBees\n",
    "L - LiquidBees\n",
    "B - Begin\n",
    "E - End\n",
    "'''\n",
    "\n",
    "weekly_col = ['WB','WE','NB','NE','GB','GE','LB','LE']\n",
    "weekly = pd.DataFrame(columns=weekly_col)\n",
    "curr_week = -1\n",
    "df_prev_week = 0\n",
    "# cw_data - current week data\n",
    "cw_data = dict.fromkeys(weekly_col,0.0)\n",
    "\n",
    "for row in range(len(df)):\n",
    "    # cw_ds - current week dataset\n",
    "    cw_ds = df.iloc[row]\n",
    "    if df_prev_week == cw_ds[1]:\n",
    "        cw_data['WE'] = cw_ds[0]\n",
    "        cw_data['NE'] = dc(cw_ds[3]).quantize(dc('0.01'))\n",
    "        cw_data['GE'] = dc(cw_ds[4]).quantize(dc('0.01'))\n",
    "        cw_data['LE'] = dc(cw_ds[5]).quantize(dc('0.01'))\n",
    "    else:\n",
    "        weekly.loc[curr_week] = cw_data\n",
    "        curr_week += 1\n",
    "        cw_data['WB'] = cw_data['WE'] = cw_ds[0]\n",
    "        cw_data['NB'] = cw_data['NE'] = dc(cw_ds[3]).quantize(dc('0.01'))\n",
    "        cw_data['GB'] = cw_data['GE'] = dc(cw_ds[4]).quantize(dc('0.01'))\n",
    "        cw_data['LB'] = cw_data['LE'] = dc(cw_ds[5]).quantize(dc('0.01'))\n",
    "    df_prev_week = cw_ds[1]\n",
    "\n",
    "weekly.drop([-1], inplace=True)\n",
    "# print(weekly)"
   ]
  },
  {
   "cell_type": "code",
   "execution_count": 59,
   "metadata": {},
   "outputs": [
    {
     "name": "stdout",
     "output_type": "stream",
     "text": [
      "Empty DataFrame\n",
      "Columns: [Date, Scrip, Value, Quantity, Amount]\n",
      "Index: []\n"
     ]
    }
   ],
   "source": [
    "# simulating trade and building trade book\n",
    "\n",
    "initial_funds = dc(10000)\n",
    "fund_bal = initial_funds\n",
    "trade_book = pd.DataFrame(columns = ['Date','Scrip','Value','Quantity','Amount'])\n",
    "# trade book entry\n",
    "tb_entry = dict.fromkeys(['Date','Scrip','Value','Quantity','Amount'])\n",
    "period = 30\n",
    "nifty_roc = gold_roc = dc(0)\n",
    "entry_num = 0\n",
    "\n",
    "def roc_calc(col):\n",
    "    initial = weekly.loc[week_num - period][col]\n",
    "    final = weekly.loc[week_num - 1][col]\n",
    "    return (final - initial) * 100 / initial\n",
    "\n",
    "def invest_in(scrip):\n",
    "    \n",
    "    def entry_scrip():\n",
    "        global entry_num, fund_bal\n",
    "        tb_entry['Date'] = weekly.WB.values[week_num]\n",
    "        tb_entry['Scrip'] = scrip\n",
    "        tb_entry['Value'] = weekly[scrip+'B'].values[week_num]\n",
    "        tb_entry['Quantity'] = fund_bal / tb_entry['Value']\n",
    "        tb_entry['Amount'] = tb_entry['Value'] * tb_entry['Quantity'] * dc(-1)\n",
    "        fund_bal += tb_entry['Amount']\n",
    "        print(tb_entry, fund_bal)\n",
    "        trade_book.loc[entry_num] = tb_entry\n",
    "        entry_num += 1\n",
    "    def exit_scrip():\n",
    "        global entry_num, fund_bal\n",
    "        tb_entry['Date'] = weekly.WB.values[week_num]\n",
    "        tb_entry['Scrip'] = trade_book.Scrip.values[-1]\n",
    "        tb_entry['Value'] = weekly[trade_book.Scrip.values[-1]+'B'].values[week_num]\n",
    "        tb_entry['Quantity'] = trade_book.Quantity.values[-1]\n",
    "        tb_entry['Amount'] = tb_entry['Value'] * tb_entry['Quantity']\n",
    "        fund_bal += tb_entry['Amount']\n",
    "        print(tb_entry, fund_bal)\n",
    "        trade_book.loc[entry_num] = tb_entry\n",
    "        entry_num += 1\n",
    "    \n",
    "    if entry_num == 0:\n",
    "        entry_scrip()\n",
    "    elif scrip != trade_book.Scrip.values[-1]:\n",
    "        exit_scrip()\n",
    "        entry_scrip()\n",
    "        \n",
    "\n",
    "for week_num in range(period,len(weekly)):\n",
    "    nifty_roc = roc_calc('NE')\n",
    "    gold_roc = roc_calc('GE')\n",
    "    # print(\"{:8.2f} {:8.2f}\".format(nifty_roc, gold_roc))\n",
    "    if nifty_roc > 3 or  gold_roc > 3:\n",
    "        invest_in('N' if nifty_roc > gold_roc else 'G')\n",
    "    else:\n",
    "        invest_in('L')\n",
    "        \n",
    "print(trade_book)"
   ]
  },
  {
   "cell_type": "code",
   "execution_count": 18,
   "metadata": {},
   "outputs": [
    {
     "data": {
      "text/plain": [
       "14972.440000000001"
      ]
     },
     "execution_count": 18,
     "metadata": {},
     "output_type": "execute_result"
    }
   ],
   "source": [
    "round(weekly[trade_book.Scrip.values[-1]+'E'].values[-1] * trade_book.Quantity.values[-1], 2)"
   ]
  },
  {
   "cell_type": "code",
   "execution_count": 69,
   "metadata": {},
   "outputs": [
    {
     "data": {
      "text/plain": [
       "4"
      ]
     },
     "execution_count": 69,
     "metadata": {},
     "output_type": "execute_result"
    }
   ],
   "source": [
    "fund_bal"
   ]
  }
 ],
 "metadata": {
  "kernelspec": {
   "display_name": "Python 3",
   "language": "python",
   "name": "python3"
  },
  "language_info": {
   "codemirror_mode": {
    "name": "ipython",
    "version": 3
   },
   "file_extension": ".py",
   "mimetype": "text/x-python",
   "name": "python",
   "nbconvert_exporter": "python",
   "pygments_lexer": "ipython3",
   "version": "3.6.4"
  }
 },
 "nbformat": 4,
 "nbformat_minor": 2
}
