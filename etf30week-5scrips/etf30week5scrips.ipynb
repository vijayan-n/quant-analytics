{
 "cells": [
  {
   "cell_type": "markdown",
   "metadata": {},
   "source": [
    "# ETF - Strategy Backtesting\n",
    "\n",
    "### Strategy:\n",
    "1. At the start of each week, check the 30 week (6 months) rate of change of NiftyBees, GoldBees, BankBees and ONGC.\n",
    "2. If none of the ETFs are returning more than 3% in 6 months. Do nothing. Be invested in LiquidBees.\n",
    "3. If one or both ETFs are returning more than 3% invest your entire position in that ETF. (Higher Performance ETF)."
   ]
  },
  {
   "cell_type": "code",
   "execution_count": null,
   "metadata": {},
   "outputs": [],
   "source": [
    "import pandas as pd\n",
    "import quandl"
   ]
  },
  {
   "cell_type": "code",
   "execution_count": null,
   "metadata": {},
   "outputs": [],
   "source": [
    "quandl_key = open(\"data/quandlkey\").readline().rstrip()\n",
    "quandl.ApiConfig.api_key = quandl_key"
   ]
  },
  {
   "cell_type": "code",
   "execution_count": null,
   "metadata": {},
   "outputs": [],
   "source": [
    "df = quandl.get([\"NSE/NIFTYBEES.5\",\n",
    "                 \"NSE/GOLDBEES.5\",\n",
    "                 \"NSE/LIQUIDBEES.5\",\n",
    "                 \"NSE/BANKBEES.5\",\n",
    "                 \"NSE/ONGC.5\"]).rename(columns={'NSE/NIFTYBEES - Close': 'nc',\n",
    "                                                'NSE/GOLDBEES - Close': 'gc',\n",
    "                                                'NSE/LIQUIDBEES - Close': 'lc',\n",
    "                                                'NSE/BANKBEES - Close': 'bc',\n",
    "                                                'NSE/ONGC - Close': 'oc'})"
   ]
  },
  {
   "cell_type": "code",
   "execution_count": null,
   "metadata": {},
   "outputs": [],
   "source": [
    "df = df.dropna()\n",
    "df['wn'] = df.index.weekofyear\n",
    "print(df)"
   ]
  },
  {
   "cell_type": "markdown",
   "metadata": {},
   "source": [
    "### Data Wrangling - Daily to Weekly\n",
    "\n",
    "Data wrangling performed to compress the large dataset to retain only the essential data points (week beginning and ending).\n",
    "* week ending - for calculating Rate of Change (RoC)\n",
    "* week beginning - for trade actions (buy/sell)"
   ]
  },
  {
   "cell_type": "code",
   "execution_count": null,
   "metadata": {
    "scrolled": true
   },
   "outputs": [],
   "source": [
    "# Converting data from df to weekly format\n",
    "\n",
    "weekly_col = ['wb','we','nb','ne','gb','ge','lb','le', 'bb', 'be', 'ob', 'oe']\n",
    "weekly = pd.DataFrame(columns=weekly_col)\n",
    "curr_week = -1\n",
    "df_prev_week = 0\n",
    "# cw_data - current week data\n",
    "cw_data = dict.fromkeys(weekly_col,0.0)\n",
    "\n",
    "for row in range(len(df)):\n",
    "    # cw_ds - current week dataset\n",
    "    cw_ds = df.iloc[row]\n",
    "    if df_prev_week == cw_ds[5]:\n",
    "        cw_data['we'] = df.index[row]\n",
    "        cw_data['ne'] = cw_ds[0]\n",
    "        cw_data['ge'] = cw_ds[1]\n",
    "        cw_data['le'] = cw_ds[2]\n",
    "        cw_data['be'] = cw_ds[3]\n",
    "        cw_data['oe'] = cw_ds[4]\n",
    "    else:\n",
    "        weekly.loc[curr_week] = cw_data\n",
    "        curr_week += 1\n",
    "        cw_data['wb'] = cw_data['we'] = df.index[row]\n",
    "        cw_data['nb'] = cw_data['ne'] = cw_ds[0]\n",
    "        cw_data['gb'] = cw_data['ge'] = cw_ds[1]\n",
    "        cw_data['lb'] = cw_data['le'] = cw_ds[2]\n",
    "        cw_data['bb'] = cw_data['be'] = cw_ds[3]\n",
    "        cw_data['ob'] = cw_data['oe'] = cw_ds[4]\n",
    "    df_prev_week = cw_ds[5]\n",
    "\n",
    "weekly.loc[curr_week] = cw_data\n",
    "weekly.drop([-1], inplace=True)\n",
    "print(\"Weekly Data:\")\n",
    "weekly['wb'] = pd.to_datetime(weekly['wb'])\n",
    "weekly['we'] = pd.to_datetime(weekly['we'])\n",
    "print(weekly)"
   ]
  },
  {
   "cell_type": "markdown",
   "metadata": {},
   "source": [
    "### Trade Simulation"
   ]
  },
  {
   "cell_type": "code",
   "execution_count": null,
   "metadata": {},
   "outputs": [],
   "source": [
    "initial_funds = 10000.00\n",
    "fund_bal = initial_funds\n",
    "trade_book = pd.DataFrame(columns = ['Date','Scrip','Value','Quantity','Amount'])\n",
    "# trade book entry\n",
    "tb_entry = dict.fromkeys(['Date','Scrip','Value','Quantity','Amount'])\n",
    "period = 30\n",
    "nbr = gbr = bbr = onr = 0\n",
    "entry_num = 0\n",
    "\n",
    "def roc_calc(col):\n",
    "    initial = weekly.loc[week_num - period][col]\n",
    "    final = weekly.loc[week_num - 1][col]\n",
    "    return (final - initial) * 100 / initial\n",
    "\n",
    "def invest_in(scrip):\n",
    "    \n",
    "    def entry_scrip():\n",
    "        global entry_num, fund_bal\n",
    "        tb_entry['Date'] = weekly.wb.values[week_num]\n",
    "        tb_entry['Scrip'] = scrip\n",
    "        tb_entry['Value'] = weekly[scrip+'b'].values[week_num]\n",
    "        tb_entry['Quantity'] = int(fund_bal / tb_entry['Value'])\n",
    "        tb_entry['Amount'] = tb_entry['Value'] * tb_entry['Quantity'] * -1\n",
    "        fund_bal += tb_entry['Amount']\n",
    "        # print(tb_entry, fund_bal)\n",
    "        trade_book.loc[entry_num] = tb_entry\n",
    "        entry_num += 1\n",
    "    def exit_scrip():\n",
    "        global entry_num, fund_bal\n",
    "        tb_entry['Date'] = weekly.wb.values[week_num]\n",
    "        tb_entry['Scrip'] = trade_book.Scrip.values[-1]\n",
    "        tb_entry['Value'] = weekly[trade_book.Scrip.values[-1]+'b'].values[week_num]\n",
    "        tb_entry['Quantity'] = trade_book.Quantity.values[-1]\n",
    "        tb_entry['Amount'] = tb_entry['Value'] * tb_entry['Quantity']\n",
    "        fund_bal += tb_entry['Amount']\n",
    "        # print(tb_entry, fund_bal)\n",
    "        trade_book.loc[entry_num] = tb_entry\n",
    "        entry_num += 1\n",
    "    \n",
    "    if entry_num == 0:\n",
    "        entry_scrip()\n",
    "    elif scrip != trade_book.Scrip.values[-1]:\n",
    "        exit_scrip()\n",
    "        entry_scrip()\n",
    "        \n",
    "\n",
    "for week_num in range(period,len(weekly)):\n",
    "    nbr = roc_calc('ne')\n",
    "    gbr = roc_calc('ge')\n",
    "    bbr = roc_calc('be')\n",
    "    onr = roc_calc('oe')\n",
    "    \n",
    "    if nbr > 3:\n",
    "        if nbr > gbr and nbr > bbr and nbr > onr:\n",
    "            invest_in('n')\n",
    "    elif gbr > 3:\n",
    "        if gbr > bbr and gbr > onr:\n",
    "            invest_in('g')\n",
    "    elif bbr > 3:\n",
    "        if bbr > onr:\n",
    "            invest_in('b')\n",
    "    elif onr > 3:\n",
    "        invest_in('o')\n",
    "    else:\n",
    "        invest_in('l')\n",
    "        \n",
    "print(trade_book)"
   ]
  },
  {
   "cell_type": "markdown",
   "metadata": {},
   "source": [
    "### Trade Analysis"
   ]
  },
  {
   "cell_type": "code",
   "execution_count": null,
   "metadata": {},
   "outputs": [],
   "source": [
    "ltp = weekly[trade_book.Scrip.values[-1]+'e'].values[-1]\n",
    "namt = ltp * trade_book.Quantity.values[-1]\n",
    "nbal = namt + fund_bal\n",
    "\n",
    "odd_dates = pd.Series(trade_book.Date.iloc[1::2].values)\n",
    "odd_dates.loc[len(odd_dates)] = weekly.we.values[-1]\n",
    "even_dates = pd.Series(trade_book.Date.iloc[::2].values)\n",
    "odd_amt = pd.Series(trade_book.Amount.iloc[1::2].values)\n",
    "odd_amt.loc[len(odd_amt)] = namt\n",
    "even_amt = pd.Series(trade_book.Amount.iloc[::2].values)\n",
    "\n",
    "trade_stats = pd.DataFrame()\n",
    "trade_stats['EntryDate'] = even_dates\n",
    "trade_stats['ExitDate'] = odd_dates\n",
    "trade_stats['HoldPeriod'] = odd_dates - even_dates\n",
    "trade_stats['Scrip'] = pd.Series(trade_book.Scrip.iloc[::2].values)\n",
    "trade_stats['EntryAmt'] = even_amt\n",
    "trade_stats['ExitAmt'] = odd_amt\n",
    "trade_stats['Gains'] = odd_amt + even_amt\n",
    "print(trade_stats)"
   ]
  },
  {
   "cell_type": "code",
   "execution_count": null,
   "metadata": {},
   "outputs": [],
   "source": [
    "np = trade_stats.Gains.sum()\n",
    "cagr = (((nbal / initial_funds) ** (1 / 10) -1) * 100).round(2)\n",
    "\n",
    "print(\"Initial Funds:\\t{0:.2f}\".format(initial_funds))\n",
    "print(\"Net Profit:\\t{0:.2f}\".format(np))\n",
    "print(\"CAGR:\\t\\t{0:8.3}%\".format(cagr))"
   ]
  }
 ],
 "metadata": {
  "kernelspec": {
   "display_name": "Python 3",
   "language": "python",
   "name": "python3"
  },
  "language_info": {
   "codemirror_mode": {
    "name": "ipython",
    "version": 3
   },
   "file_extension": ".py",
   "mimetype": "text/x-python",
   "name": "python",
   "nbconvert_exporter": "python",
   "pygments_lexer": "ipython3",
   "version": "3.6.4"
  }
 },
 "nbformat": 4,
 "nbformat_minor": 2
}
